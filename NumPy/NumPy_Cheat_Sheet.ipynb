{
 "cells": [
  {
   "cell_type": "markdown",
   "id": "7631895f",
   "metadata": {},
   "source": [
    "# **Hoja de Trucos: NumPy**\n",
    "\n",
    "## **NumPy para Ciencia de Datos en Python**"
   ]
  },
  {
   "cell_type": "markdown",
   "id": "468c6c76",
   "metadata": {},
   "source": [
    "## **Creación de Arrays**\n",
    "### Creación básica de arrays:"
   ]
  },
  {
   "cell_type": "code",
   "execution_count": 70,
   "id": "08c1c18e",
   "metadata": {},
   "outputs": [],
   "source": [
    "import numpy as np\n",
    "\n",
    "a = np.array([1, 2, 3])  # Array unidimensional\n",
    "b = np.array([(1.5, 2, 3), (4, 5, 6)], dtype=float)  # Array bidimensional\n",
    "c = np.array([[(1.5, 2, 3), (4, 5, 6)], [(3, 2, 1), (4, 5, 6)]], dtype=float)  # Array tridimensional"
   ]
  },
  {
   "cell_type": "markdown",
   "id": "b852a728",
   "metadata": {},
   "source": [
    "### Arrays especiales:"
   ]
  },
  {
   "cell_type": "code",
   "execution_count": 2,
   "id": "d75f4757",
   "metadata": {},
   "outputs": [
    {
     "data": {
      "text/plain": [
       "array([[0., 0., 0., 0.],\n",
       "       [0., 0., 0., 0.],\n",
       "       [0., 0., 0., 0.]])"
      ]
     },
     "execution_count": 2,
     "metadata": {},
     "output_type": "execute_result"
    }
   ],
   "source": [
    "np.zeros((3, 4))  # Array de ceros"
   ]
  },
  {
   "cell_type": "code",
   "execution_count": 3,
   "id": "0e2958b9",
   "metadata": {},
   "outputs": [
    {
     "data": {
      "text/plain": [
       "array([[[1, 1, 1, 1],\n",
       "        [1, 1, 1, 1],\n",
       "        [1, 1, 1, 1]],\n",
       "\n",
       "       [[1, 1, 1, 1],\n",
       "        [1, 1, 1, 1],\n",
       "        [1, 1, 1, 1]]], dtype=int16)"
      ]
     },
     "execution_count": 3,
     "metadata": {},
     "output_type": "execute_result"
    }
   ],
   "source": [
    "np.ones((2, 3, 4), dtype=np.int16)  # Array de unos"
   ]
  },
  {
   "cell_type": "code",
   "execution_count": 4,
   "id": "c886f2e5",
   "metadata": {},
   "outputs": [],
   "source": [
    "d = np.arange(10, 25, 5)  # Valores espaciados con paso"
   ]
  },
  {
   "cell_type": "code",
   "execution_count": 5,
   "id": "e9927160",
   "metadata": {},
   "outputs": [
    {
     "data": {
      "text/plain": [
       "array([0.  , 0.25, 0.5 , 0.75, 1.  , 1.25, 1.5 , 1.75, 2.  ])"
      ]
     },
     "execution_count": 5,
     "metadata": {},
     "output_type": "execute_result"
    }
   ],
   "source": [
    "np.linspace(0, 2, 9)  # Valores espaciados uniformemente"
   ]
  },
  {
   "cell_type": "code",
   "execution_count": 6,
   "id": "9f2f0c27",
   "metadata": {},
   "outputs": [],
   "source": [
    "e = np.full((2, 2), 7)  # Array constante con el valor 7"
   ]
  },
  {
   "cell_type": "code",
   "execution_count": 7,
   "id": "2ada6248",
   "metadata": {},
   "outputs": [],
   "source": [
    "f = np.eye(2)  # Matriz identidad 2x2"
   ]
  },
  {
   "cell_type": "code",
   "execution_count": 8,
   "id": "72de862a",
   "metadata": {},
   "outputs": [
    {
     "data": {
      "text/plain": [
       "array([[0.82639335, 0.85466515],\n",
       "       [0.45184973, 0.8739764 ]])"
      ]
     },
     "execution_count": 8,
     "metadata": {},
     "output_type": "execute_result"
    }
   ],
   "source": [
    "np.random.random((2, 2))  # Array con valores aleatorios"
   ]
  },
  {
   "cell_type": "code",
   "execution_count": 9,
   "id": "2ae97943",
   "metadata": {},
   "outputs": [
    {
     "data": {
      "text/plain": [
       "array([[8.78954729e-312, 8.78954729e-312],\n",
       "       [8.78954729e-312, 1.86921822e-306],\n",
       "       [1.37961709e-306, 3.23790862e-319]])"
      ]
     },
     "execution_count": 9,
     "metadata": {},
     "output_type": "execute_result"
    }
   ],
   "source": [
    "np.empty((3, 2))  # Array vacío"
   ]
  },
  {
   "cell_type": "markdown",
   "id": "35b869bd",
   "metadata": {},
   "source": [
    "## **Inspección del Array**"
   ]
  },
  {
   "cell_type": "code",
   "execution_count": 10,
   "id": "f255a7d6",
   "metadata": {},
   "outputs": [
    {
     "data": {
      "text/plain": [
       "(2, 3)"
      ]
     },
     "execution_count": 10,
     "metadata": {},
     "output_type": "execute_result"
    }
   ],
   "source": [
    "b.shape  # Dimensiones del array"
   ]
  },
  {
   "cell_type": "code",
   "execution_count": 11,
   "id": "2c37674a",
   "metadata": {},
   "outputs": [
    {
     "data": {
      "text/plain": [
       "3"
      ]
     },
     "execution_count": 11,
     "metadata": {},
     "output_type": "execute_result"
    }
   ],
   "source": [
    "len(a)  # Longitud del array"
   ]
  },
  {
   "cell_type": "code",
   "execution_count": 12,
   "id": "80373789",
   "metadata": {},
   "outputs": [
    {
     "data": {
      "text/plain": [
       "3"
      ]
     },
     "execution_count": 12,
     "metadata": {},
     "output_type": "execute_result"
    }
   ],
   "source": [
    "c.ndim  # Número de dimensiones"
   ]
  },
  {
   "cell_type": "code",
   "execution_count": 13,
   "id": "7f293c26",
   "metadata": {},
   "outputs": [
    {
     "data": {
      "text/plain": [
       "4"
      ]
     },
     "execution_count": 13,
     "metadata": {},
     "output_type": "execute_result"
    }
   ],
   "source": [
    "e.size  # Número total de elementos"
   ]
  },
  {
   "cell_type": "code",
   "execution_count": 14,
   "id": "e7e07876",
   "metadata": {},
   "outputs": [
    {
     "data": {
      "text/plain": [
       "dtype('float64')"
      ]
     },
     "execution_count": 14,
     "metadata": {},
     "output_type": "execute_result"
    }
   ],
   "source": [
    "b.dtype  # Tipo de datos de los elementos"
   ]
  },
  {
   "cell_type": "code",
   "execution_count": 15,
   "id": "d3f4f8a6",
   "metadata": {},
   "outputs": [
    {
     "data": {
      "text/plain": [
       "'float64'"
      ]
     },
     "execution_count": 15,
     "metadata": {},
     "output_type": "execute_result"
    }
   ],
   "source": [
    "b.dtype.name  # Nombre del tipo de datos"
   ]
  },
  {
   "cell_type": "code",
   "execution_count": 16,
   "id": "a3eaf59d",
   "metadata": {},
   "outputs": [
    {
     "data": {
      "text/plain": [
       "array([[1, 2, 3],\n",
       "       [4, 5, 6]])"
      ]
     },
     "execution_count": 16,
     "metadata": {},
     "output_type": "execute_result"
    }
   ],
   "source": [
    "b.astype(int)  # Convertir a otro tipo"
   ]
  },
  {
   "cell_type": "markdown",
   "id": "58e45590",
   "metadata": {},
   "source": [
    "### Tipos de datos"
   ]
  },
  {
   "cell_type": "code",
   "execution_count": 17,
   "id": "d9153a8f",
   "metadata": {},
   "outputs": [
    {
     "data": {
      "text/plain": [
       "numpy.int64"
      ]
     },
     "execution_count": 17,
     "metadata": {},
     "output_type": "execute_result"
    }
   ],
   "source": [
    "np.int64 # Tipos enteros de 64 bits con signo"
   ]
  },
  {
   "cell_type": "code",
   "execution_count": 18,
   "id": "d8544e54",
   "metadata": {},
   "outputs": [
    {
     "data": {
      "text/plain": [
       "numpy.float32"
      ]
     },
     "execution_count": 18,
     "metadata": {},
     "output_type": "execute_result"
    }
   ],
   "source": [
    "np.float32  # Coma flotante de doble precisión estándar"
   ]
  },
  {
   "cell_type": "code",
   "execution_count": 19,
   "id": "a36b6b7e",
   "metadata": {},
   "outputs": [
    {
     "data": {
      "text/plain": [
       "numpy.complex128"
      ]
     },
     "execution_count": 19,
     "metadata": {},
     "output_type": "execute_result"
    }
   ],
   "source": [
    "np.complex_ # Números complejos representados por 128 puntos flotantes"
   ]
  },
  {
   "cell_type": "code",
   "execution_count": 20,
   "id": "1c8b2d04",
   "metadata": {},
   "outputs": [
    {
     "data": {
      "text/plain": [
       "numpy.bool_"
      ]
     },
     "execution_count": 20,
     "metadata": {},
     "output_type": "execute_result"
    }
   ],
   "source": [
    "np.bool_ # Tipo booleano que almacena valores VERDADERO y FALSO"
   ]
  },
  {
   "cell_type": "code",
   "execution_count": 21,
   "id": "1db7830f",
   "metadata": {},
   "outputs": [
    {
     "data": {
      "text/plain": [
       "numpy.object_"
      ]
     },
     "execution_count": 21,
     "metadata": {},
     "output_type": "execute_result"
    }
   ],
   "source": [
    "np.object_ # Tipo de objeto de Python"
   ]
  },
  {
   "cell_type": "code",
   "execution_count": 22,
   "id": "04b2c3bc",
   "metadata": {},
   "outputs": [
    {
     "data": {
      "text/plain": [
       "numpy.bytes_"
      ]
     },
     "execution_count": 22,
     "metadata": {},
     "output_type": "execute_result"
    }
   ],
   "source": [
    "np.string_ # Tipo de cadena de longitud fija"
   ]
  },
  {
   "cell_type": "code",
   "execution_count": 23,
   "id": "c6210123",
   "metadata": {},
   "outputs": [
    {
     "data": {
      "text/plain": [
       "numpy.str_"
      ]
     },
     "execution_count": 23,
     "metadata": {},
     "output_type": "execute_result"
    }
   ],
   "source": [
    "np.unicode_ # Tipo Unicode de longitud fija"
   ]
  },
  {
   "cell_type": "markdown",
   "id": "a59ff18a",
   "metadata": {},
   "source": [
    "## **Matemáticas con Arrays**\n",
    "### Operaciones aritméticas:"
   ]
  },
  {
   "cell_type": "code",
   "execution_count": 24,
   "id": "bbee8e74",
   "metadata": {},
   "outputs": [
    {
     "data": {
      "text/plain": [
       "array([[2.5, 4. , 6. ],\n",
       "       [5. , 7. , 9. ]])"
      ]
     },
     "execution_count": 24,
     "metadata": {},
     "output_type": "execute_result"
    }
   ],
   "source": [
    "b + a # Suma"
   ]
  },
  {
   "cell_type": "code",
   "execution_count": 25,
   "id": "19651525",
   "metadata": {},
   "outputs": [
    {
     "data": {
      "text/plain": [
       "array([[2.5, 4. , 6. ],\n",
       "       [5. , 7. , 9. ]])"
      ]
     },
     "execution_count": 25,
     "metadata": {},
     "output_type": "execute_result"
    }
   ],
   "source": [
    "np.add(b,a) # Suma"
   ]
  },
  {
   "cell_type": "code",
   "execution_count": 26,
   "id": "f6c653f3",
   "metadata": {},
   "outputs": [],
   "source": [
    "g = a - b # Resta"
   ]
  },
  {
   "cell_type": "code",
   "execution_count": 27,
   "id": "54dbbc67",
   "metadata": {},
   "outputs": [
    {
     "data": {
      "text/plain": [
       "array([[-0.5,  0. ,  0. ],\n",
       "       [-3. , -3. , -3. ]])"
      ]
     },
     "execution_count": 27,
     "metadata": {},
     "output_type": "execute_result"
    }
   ],
   "source": [
    "np.subtract(a,b) # Resta"
   ]
  },
  {
   "cell_type": "code",
   "execution_count": 28,
   "id": "b6a1c047",
   "metadata": {},
   "outputs": [
    {
     "data": {
      "text/plain": [
       "array([[ 1.5,  4. ,  9. ],\n",
       "       [ 4. , 10. , 18. ]])"
      ]
     },
     "execution_count": 28,
     "metadata": {},
     "output_type": "execute_result"
    }
   ],
   "source": [
    "a * b # Multiplicación"
   ]
  },
  {
   "cell_type": "code",
   "execution_count": 29,
   "id": "d75893f4",
   "metadata": {},
   "outputs": [
    {
     "data": {
      "text/plain": [
       "array([[ 1.5,  4. ,  9. ],\n",
       "       [ 4. , 10. , 18. ]])"
      ]
     },
     "execution_count": 29,
     "metadata": {},
     "output_type": "execute_result"
    }
   ],
   "source": [
    "np.multiply(a,b) # Multiplicación"
   ]
  },
  {
   "cell_type": "code",
   "execution_count": 30,
   "id": "4c9e9221",
   "metadata": {},
   "outputs": [
    {
     "data": {
      "text/plain": [
       "array([[0.66666667, 1.        , 1.        ],\n",
       "       [0.25      , 0.4       , 0.5       ]])"
      ]
     },
     "execution_count": 30,
     "metadata": {},
     "output_type": "execute_result"
    }
   ],
   "source": [
    "a / b # División"
   ]
  },
  {
   "cell_type": "code",
   "execution_count": 31,
   "id": "1750d0bb",
   "metadata": {},
   "outputs": [
    {
     "data": {
      "text/plain": [
       "array([[0.66666667, 1.        , 1.        ],\n",
       "       [0.25      , 0.4       , 0.5       ]])"
      ]
     },
     "execution_count": 31,
     "metadata": {},
     "output_type": "execute_result"
    }
   ],
   "source": [
    "np.divide(a,b) # División"
   ]
  },
  {
   "cell_type": "code",
   "execution_count": 32,
   "id": "d4bbe39c",
   "metadata": {},
   "outputs": [
    {
     "data": {
      "text/plain": [
       "array([[  4.48168907,   7.3890561 ,  20.08553692],\n",
       "       [ 54.59815003, 148.4131591 , 403.42879349]])"
      ]
     },
     "execution_count": 32,
     "metadata": {},
     "output_type": "execute_result"
    }
   ],
   "source": [
    "np.exp(b) # Exponencial"
   ]
  },
  {
   "cell_type": "code",
   "execution_count": 33,
   "id": "59a815dd",
   "metadata": {},
   "outputs": [
    {
     "data": {
      "text/plain": [
       "array([[1.22474487, 1.41421356, 1.73205081],\n",
       "       [2.        , 2.23606798, 2.44948974]])"
      ]
     },
     "execution_count": 33,
     "metadata": {},
     "output_type": "execute_result"
    }
   ],
   "source": [
    "np.sqrt(b) # Raíz cuadrada"
   ]
  },
  {
   "cell_type": "code",
   "execution_count": 34,
   "id": "c39c5609",
   "metadata": {},
   "outputs": [
    {
     "data": {
      "text/plain": [
       "array([0.84147098, 0.90929743, 0.14112001])"
      ]
     },
     "execution_count": 34,
     "metadata": {},
     "output_type": "execute_result"
    }
   ],
   "source": [
    "np.sin(a) # Imprimir senos de un array"
   ]
  },
  {
   "cell_type": "code",
   "execution_count": 35,
   "id": "11151bef",
   "metadata": {},
   "outputs": [
    {
     "data": {
      "text/plain": [
       "array([[ 0.0707372 , -0.41614684, -0.9899925 ],\n",
       "       [-0.65364362,  0.28366219,  0.96017029]])"
      ]
     },
     "execution_count": 35,
     "metadata": {},
     "output_type": "execute_result"
    }
   ],
   "source": [
    "np.cos(b) # Coseno elemento por elemento"
   ]
  },
  {
   "cell_type": "code",
   "execution_count": 36,
   "id": "4a777b4e",
   "metadata": {},
   "outputs": [
    {
     "data": {
      "text/plain": [
       "array([0.        , 0.69314718, 1.09861229])"
      ]
     },
     "execution_count": 36,
     "metadata": {},
     "output_type": "execute_result"
    }
   ],
   "source": [
    "np.log(a) # Logaritmo natural elemento por elemento"
   ]
  },
  {
   "cell_type": "code",
   "execution_count": 37,
   "id": "e461e4c0",
   "metadata": {},
   "outputs": [
    {
     "data": {
      "text/plain": [
       "array([[7., 7.],\n",
       "       [7., 7.]])"
      ]
     },
     "execution_count": 37,
     "metadata": {},
     "output_type": "execute_result"
    }
   ],
   "source": [
    "e.dot(f) # Producto escalar"
   ]
  },
  {
   "cell_type": "markdown",
   "id": "4d32a2ba",
   "metadata": {},
   "source": [
    "## **Subconjuntos, Cortes e Indexación**\n",
    "### Selección de elementos:"
   ]
  },
  {
   "cell_type": "code",
   "execution_count": 38,
   "id": "7d33c081",
   "metadata": {},
   "outputs": [
    {
     "data": {
      "text/plain": [
       "3"
      ]
     },
     "execution_count": 38,
     "metadata": {},
     "output_type": "execute_result"
    }
   ],
   "source": [
    "a[2]  # Elemento en el índice 2"
   ]
  },
  {
   "cell_type": "code",
   "execution_count": 39,
   "id": "56355197",
   "metadata": {},
   "outputs": [
    {
     "data": {
      "text/plain": [
       "6.0"
      ]
     },
     "execution_count": 39,
     "metadata": {},
     "output_type": "execute_result"
    }
   ],
   "source": [
    "b[1, 2]  # Elemento en fila 1, columna 2"
   ]
  },
  {
   "cell_type": "markdown",
   "id": "10a76c17",
   "metadata": {},
   "source": [
    "### Cortes (slicing):"
   ]
  },
  {
   "cell_type": "code",
   "execution_count": 40,
   "id": "c918f578",
   "metadata": {},
   "outputs": [
    {
     "data": {
      "text/plain": [
       "array([1, 2])"
      ]
     },
     "execution_count": 40,
     "metadata": {},
     "output_type": "execute_result"
    }
   ],
   "source": [
    "a[0:2]  # Elementos en los índices 0 y 1"
   ]
  },
  {
   "cell_type": "code",
   "execution_count": 41,
   "id": "c811c938",
   "metadata": {},
   "outputs": [
    {
     "data": {
      "text/plain": [
       "array([2., 5.])"
      ]
     },
     "execution_count": 41,
     "metadata": {},
     "output_type": "execute_result"
    }
   ],
   "source": [
    "b[0:2, 1]  # Elementos en filas 0 y 1, columna 1"
   ]
  },
  {
   "cell_type": "code",
   "execution_count": 42,
   "id": "7d1dd683",
   "metadata": {},
   "outputs": [
    {
     "data": {
      "text/plain": [
       "array([[1.5, 2. , 3. ]])"
      ]
     },
     "execution_count": 42,
     "metadata": {},
     "output_type": "execute_result"
    }
   ],
   "source": [
    "b[:1]  # Todos los elementos de la fila 0"
   ]
  },
  {
   "cell_type": "markdown",
   "id": "d7b2b69d",
   "metadata": {},
   "source": [
    "### Indexación booleana:"
   ]
  },
  {
   "cell_type": "code",
   "execution_count": 43,
   "id": "e0cd42b7",
   "metadata": {},
   "outputs": [
    {
     "data": {
      "text/plain": [
       "array([1])"
      ]
     },
     "execution_count": 43,
     "metadata": {},
     "output_type": "execute_result"
    }
   ],
   "source": [
    "a[a < 2]  # Elementos de `a` menores a 2"
   ]
  },
  {
   "cell_type": "markdown",
   "id": "b91cd9f7",
   "metadata": {},
   "source": [
    "### Indexación avanzada:"
   ]
  },
  {
   "cell_type": "code",
   "execution_count": 44,
   "id": "d427d2db",
   "metadata": {},
   "outputs": [
    {
     "data": {
      "text/plain": [
       "array([4. , 2. , 6. , 1.5])"
      ]
     },
     "execution_count": 44,
     "metadata": {},
     "output_type": "execute_result"
    }
   ],
   "source": [
    "b[[1, 0, 1, 0], [0, 1, 2, 0]]  # Elementos en posiciones específicas"
   ]
  },
  {
   "cell_type": "markdown",
   "id": "6f14c6cc",
   "metadata": {},
   "source": [
    "### Comparación"
   ]
  },
  {
   "cell_type": "code",
   "execution_count": 45,
   "id": "19207341",
   "metadata": {},
   "outputs": [],
   "source": [
    "a = b # Comparación elemento por elemento"
   ]
  },
  {
   "cell_type": "code",
   "execution_count": 46,
   "id": "c6145311",
   "metadata": {},
   "outputs": [
    {
     "data": {
      "text/plain": [
       "array([[ True, False, False],\n",
       "       [False, False, False]])"
      ]
     },
     "execution_count": 46,
     "metadata": {},
     "output_type": "execute_result"
    }
   ],
   "source": [
    "a < 2 # #Comparación elemento por elemento"
   ]
  },
  {
   "cell_type": "code",
   "execution_count": 47,
   "id": "049cc8c7",
   "metadata": {},
   "outputs": [
    {
     "data": {
      "text/plain": [
       "True"
      ]
     },
     "execution_count": 47,
     "metadata": {},
     "output_type": "execute_result"
    }
   ],
   "source": [
    "np.array_equal(a,b) # Comparación de matriz por matriz"
   ]
  },
  {
   "cell_type": "markdown",
   "id": "f234b814",
   "metadata": {},
   "source": [
    "### Funciones agregadas"
   ]
  },
  {
   "cell_type": "code",
   "execution_count": 48,
   "id": "a27ad08e",
   "metadata": {},
   "outputs": [
    {
     "data": {
      "text/plain": [
       "21.5"
      ]
     },
     "execution_count": 48,
     "metadata": {},
     "output_type": "execute_result"
    }
   ],
   "source": [
    "a.sum()  # Suma"
   ]
  },
  {
   "cell_type": "code",
   "execution_count": 49,
   "id": "291f59da",
   "metadata": {},
   "outputs": [
    {
     "data": {
      "text/plain": [
       "1.5"
      ]
     },
     "execution_count": 49,
     "metadata": {},
     "output_type": "execute_result"
    }
   ],
   "source": [
    "a.min()  # Mínimo"
   ]
  },
  {
   "cell_type": "code",
   "execution_count": 50,
   "id": "d106f3fb",
   "metadata": {},
   "outputs": [
    {
     "data": {
      "text/plain": [
       "array([4., 5., 6.])"
      ]
     },
     "execution_count": 50,
     "metadata": {},
     "output_type": "execute_result"
    }
   ],
   "source": [
    "b.max(axis=0)  # Máximo por fila"
   ]
  },
  {
   "cell_type": "code",
   "execution_count": 51,
   "id": "1b339aeb",
   "metadata": {},
   "outputs": [
    {
     "data": {
      "text/plain": [
       "array([[ 1.5,  3.5,  6.5],\n",
       "       [ 4. ,  9. , 15. ]])"
      ]
     },
     "execution_count": 51,
     "metadata": {},
     "output_type": "execute_result"
    }
   ],
   "source": [
    "b.cumsum(axis=1)  # Suma acumulativa"
   ]
  },
  {
   "cell_type": "code",
   "execution_count": 52,
   "id": "a24dd0a8",
   "metadata": {},
   "outputs": [
    {
     "data": {
      "text/plain": [
       "3.5833333333333335"
      ]
     },
     "execution_count": 52,
     "metadata": {},
     "output_type": "execute_result"
    }
   ],
   "source": [
    "a.mean()  # Promedio"
   ]
  },
  {
   "cell_type": "code",
   "execution_count": 53,
   "id": "9771bcca",
   "metadata": {},
   "outputs": [
    {
     "data": {
      "text/plain": [
       "3.5"
      ]
     },
     "execution_count": 53,
     "metadata": {},
     "output_type": "execute_result"
    }
   ],
   "source": [
    "np.median(b)  # Mediana"
   ]
  },
  {
   "cell_type": "code",
   "execution_count": 54,
   "id": "aad6cf0a",
   "metadata": {},
   "outputs": [
    {
     "data": {
      "text/plain": [
       "array([[1.        , 0.98198051],\n",
       "       [0.98198051, 1.        ]])"
      ]
     },
     "execution_count": 54,
     "metadata": {},
     "output_type": "execute_result"
    }
   ],
   "source": [
    "np.corrcoef(a)  # Coeficiente de correlación"
   ]
  },
  {
   "cell_type": "code",
   "execution_count": 55,
   "id": "cb547be2",
   "metadata": {},
   "outputs": [
    {
     "data": {
      "text/plain": [
       "1.5920810978785667"
      ]
     },
     "execution_count": 55,
     "metadata": {},
     "output_type": "execute_result"
    }
   ],
   "source": [
    "np.std(b)  # Desviación estándar"
   ]
  },
  {
   "cell_type": "markdown",
   "id": "84527182",
   "metadata": {},
   "source": [
    "## Copiando arrays"
   ]
  },
  {
   "cell_type": "code",
   "execution_count": 56,
   "id": "8cbefbc2",
   "metadata": {},
   "outputs": [],
   "source": [
    "h = a.view() # Crear una vista de la matriz con los mismos datos"
   ]
  },
  {
   "cell_type": "code",
   "execution_count": 57,
   "id": "b96b6d06",
   "metadata": {},
   "outputs": [
    {
     "data": {
      "text/plain": [
       "array([[1.5, 2. , 3. ],\n",
       "       [4. , 5. , 6. ]])"
      ]
     },
     "execution_count": 57,
     "metadata": {},
     "output_type": "execute_result"
    }
   ],
   "source": [
    "np.copy(a) # Crear una copia de la matriz"
   ]
  },
  {
   "cell_type": "code",
   "execution_count": 58,
   "id": "f364132d",
   "metadata": {},
   "outputs": [],
   "source": [
    "h = a.copy() # Crear una copia profunda de la matriz"
   ]
  },
  {
   "cell_type": "markdown",
   "id": "e0156e6b",
   "metadata": {},
   "source": [
    "## Ordenar arrays"
   ]
  },
  {
   "cell_type": "code",
   "execution_count": 59,
   "id": "b73e78f6",
   "metadata": {},
   "outputs": [],
   "source": [
    "a.sort() # Ordenar un array"
   ]
  },
  {
   "cell_type": "code",
   "execution_count": 60,
   "id": "7a666b4e",
   "metadata": {},
   "outputs": [],
   "source": [
    "c.sort(axis=0) # Ordenar los elementos del eje de un array"
   ]
  },
  {
   "cell_type": "markdown",
   "id": "dbf7ef21",
   "metadata": {},
   "source": [
    "## **Manipulación de Arrays**"
   ]
  },
  {
   "cell_type": "markdown",
   "id": "4ce2339c",
   "metadata": {},
   "source": [
    "### Transposición:"
   ]
  },
  {
   "cell_type": "code",
   "execution_count": 61,
   "id": "be5ea06a",
   "metadata": {},
   "outputs": [],
   "source": [
    "i = np.transpose(b)  # Transponer un array"
   ]
  },
  {
   "cell_type": "code",
   "execution_count": 62,
   "id": "511f0dc1",
   "metadata": {},
   "outputs": [
    {
     "data": {
      "text/plain": [
       "array([[1.5, 2. , 3. ],\n",
       "       [4. , 5. , 6. ]])"
      ]
     },
     "execution_count": 62,
     "metadata": {},
     "output_type": "execute_result"
    }
   ],
   "source": [
    "i.T # Permutar dimensiones de un array"
   ]
  },
  {
   "cell_type": "markdown",
   "id": "08b24ddf",
   "metadata": {},
   "source": [
    "### Cambio de forma:"
   ]
  },
  {
   "cell_type": "code",
   "execution_count": 63,
   "id": "7c0c55bc",
   "metadata": {},
   "outputs": [
    {
     "data": {
      "text/plain": [
       "array([1.5, 2. , 3. , 4. , 5. , 6. ])"
      ]
     },
     "execution_count": 63,
     "metadata": {},
     "output_type": "execute_result"
    }
   ],
   "source": [
    "b.ravel() # Aplanar el array"
   ]
  },
  {
   "cell_type": "code",
   "execution_count": 64,
   "id": "599c45fc",
   "metadata": {},
   "outputs": [
    {
     "data": {
      "text/plain": [
       "array([[-0.5,  0. ],\n",
       "       [ 0. , -3. ],\n",
       "       [-3. , -3. ]])"
      ]
     },
     "execution_count": 64,
     "metadata": {},
     "output_type": "execute_result"
    }
   ],
   "source": [
    "g.reshape(3, -2)  # Cambia la forma sin alterar los datos"
   ]
  },
  {
   "cell_type": "markdown",
   "id": "7c984b95",
   "metadata": {},
   "source": [
    "### Agregar y eliminar elementos:"
   ]
  },
  {
   "cell_type": "code",
   "execution_count": 65,
   "id": "12a1dd51",
   "metadata": {},
   "outputs": [],
   "source": [
    "h.resize((2,6)) # #Devuelve un nuevo array con forma (2,6)"
   ]
  },
  {
   "cell_type": "code",
   "execution_count": 66,
   "id": "4843f6ec",
   "metadata": {},
   "outputs": [
    {
     "data": {
      "text/plain": [
       "array([ 1.5,  2. ,  3. ,  4. ,  5. ,  6. ,  0. ,  0. ,  0. ,  0. ,  0. ,\n",
       "        0. , -0.5,  0. ,  0. , -3. , -3. , -3. ])"
      ]
     },
     "execution_count": 66,
     "metadata": {},
     "output_type": "execute_result"
    }
   ],
   "source": [
    "np.append(h, g)  # Agregar elementos"
   ]
  },
  {
   "cell_type": "code",
   "execution_count": 67,
   "id": "a3e853ff",
   "metadata": {},
   "outputs": [
    {
     "data": {
      "text/plain": [
       "array([1.5, 5. , 2. , 3. , 4. , 5. , 6. ])"
      ]
     },
     "execution_count": 67,
     "metadata": {},
     "output_type": "execute_result"
    }
   ],
   "source": [
    "np.insert(a, 1, 5)  # Insertar elementos"
   ]
  },
  {
   "cell_type": "code",
   "execution_count": 68,
   "id": "ec1f9d16",
   "metadata": {},
   "outputs": [
    {
     "data": {
      "text/plain": [
       "array([1.5, 3. , 4. , 5. , 6. ])"
      ]
     },
     "execution_count": 68,
     "metadata": {},
     "output_type": "execute_result"
    }
   ],
   "source": [
    "np.delete(a, [1])  # Eliminar elementos"
   ]
  },
  {
   "cell_type": "markdown",
   "id": "48d834e4",
   "metadata": {},
   "source": [
    "### Combinar arrays"
   ]
  },
  {
   "cell_type": "code",
   "execution_count": null,
   "id": "e17cd637",
   "metadata": {},
   "outputs": [],
   "source": [
    "a = np.array([1, 2, 3])  # Array unidimensional\n",
    "b = np.array([(1.5, 2, 3), (4, 5, 6)], dtype=float)  # Array bidimensional"
   ]
  },
  {
   "cell_type": "code",
   "execution_count": 71,
   "id": "e02153b5",
   "metadata": {},
   "outputs": [
    {
     "data": {
      "text/plain": [
       "array([ 1,  2,  3, 10, 15, 20])"
      ]
     },
     "execution_count": 71,
     "metadata": {},
     "output_type": "execute_result"
    }
   ],
   "source": [
    "np.concatenate((a, d), axis=0)  # Concatenar arrays\n"
   ]
  },
  {
   "cell_type": "code",
   "execution_count": 72,
   "id": "e8d36c4b",
   "metadata": {},
   "outputs": [
    {
     "data": {
      "text/plain": [
       "array([[1. , 2. , 3. ],\n",
       "       [1.5, 2. , 3. ],\n",
       "       [4. , 5. , 6. ]])"
      ]
     },
     "execution_count": 72,
     "metadata": {},
     "output_type": "execute_result"
    }
   ],
   "source": [
    "np.vstack((a,b)) # Apilar arrays verticalmente (filas por filas)"
   ]
  },
  {
   "cell_type": "code",
   "execution_count": 73,
   "id": "c07eeb4a",
   "metadata": {},
   "outputs": [
    {
     "data": {
      "text/plain": [
       "array([[7., 7.],\n",
       "       [7., 7.],\n",
       "       [1., 0.],\n",
       "       [0., 1.]])"
      ]
     },
     "execution_count": 73,
     "metadata": {},
     "output_type": "execute_result"
    }
   ],
   "source": [
    "np.r_[e,f] # Apilar arrays verticalmente (filas por filas)"
   ]
  },
  {
   "cell_type": "code",
   "execution_count": 74,
   "id": "569cfd5a",
   "metadata": {},
   "outputs": [
    {
     "data": {
      "text/plain": [
       "array([[7., 7., 1., 0.],\n",
       "       [7., 7., 0., 1.]])"
      ]
     },
     "execution_count": 74,
     "metadata": {},
     "output_type": "execute_result"
    }
   ],
   "source": [
    "np.hstack((e,f)) # Apilar arrays horizontalmente (columnas por columna)"
   ]
  },
  {
   "cell_type": "code",
   "execution_count": 75,
   "id": "0996a559",
   "metadata": {},
   "outputs": [
    {
     "data": {
      "text/plain": [
       "array([[ 1, 10],\n",
       "       [ 2, 15],\n",
       "       [ 3, 20]])"
      ]
     },
     "execution_count": 75,
     "metadata": {},
     "output_type": "execute_result"
    }
   ],
   "source": [
    "np.column_stack((a,d)) # Crear arrays apilados por columnas"
   ]
  },
  {
   "cell_type": "code",
   "execution_count": 76,
   "id": "dbaae9b1",
   "metadata": {},
   "outputs": [
    {
     "data": {
      "text/plain": [
       "array([[ 1, 10],\n",
       "       [ 2, 15],\n",
       "       [ 3, 20]])"
      ]
     },
     "execution_count": 76,
     "metadata": {},
     "output_type": "execute_result"
    }
   ],
   "source": [
    "np.c_[a,d] # Crear arrays apilados por columnas"
   ]
  },
  {
   "cell_type": "markdown",
   "id": "9ce5339f",
   "metadata": {},
   "source": [
    "### División de arrays"
   ]
  },
  {
   "cell_type": "code",
   "execution_count": 77,
   "id": "e0b3aec8",
   "metadata": {},
   "outputs": [
    {
     "data": {
      "text/plain": [
       "[array([1]), array([2]), array([3])]"
      ]
     },
     "execution_count": 77,
     "metadata": {},
     "output_type": "execute_result"
    }
   ],
   "source": [
    "np.hsplit(a, 3)  # Dividir horizontalmente en el tercer índice"
   ]
  },
  {
   "cell_type": "code",
   "execution_count": 78,
   "id": "17a94b09",
   "metadata": {},
   "outputs": [
    {
     "data": {
      "text/plain": [
       "[array([[[1.5, 2. , 3. ],\n",
       "         [4. , 5. , 6. ]]]),\n",
       " array([[[3., 2., 1.],\n",
       "         [4., 5., 6.]]])]"
      ]
     },
     "execution_count": 78,
     "metadata": {},
     "output_type": "execute_result"
    }
   ],
   "source": [
    "\n",
    "np.vsplit(c, 2)  # Dividir verticalmente en el segundo índice"
   ]
  },
  {
   "cell_type": "markdown",
   "id": "44f48d2b",
   "metadata": {},
   "source": [
    "## **Guardado y Carga de Archivos**\n",
    "### Guardar y cargar en formato binario:"
   ]
  },
  {
   "cell_type": "code",
   "execution_count": 79,
   "id": "8c76c451",
   "metadata": {},
   "outputs": [],
   "source": [
    "np.save('archivo.npy', a)  # Guardar en archivo binario"
   ]
  },
  {
   "cell_type": "code",
   "execution_count": 80,
   "id": "24db0d78",
   "metadata": {},
   "outputs": [
    {
     "data": {
      "text/plain": [
       "array([1, 2, 3])"
      ]
     },
     "execution_count": 80,
     "metadata": {},
     "output_type": "execute_result"
    }
   ],
   "source": [
    "np.load('archivo.npy')  # Cargar archivo binario"
   ]
  },
  {
   "cell_type": "markdown",
   "id": "d84a1e52",
   "metadata": {},
   "source": [
    "### Guardar y cargar en texto:"
   ]
  },
  {
   "cell_type": "code",
   "execution_count": 81,
   "id": "a83b3fd4",
   "metadata": {},
   "outputs": [],
   "source": [
    "np.savetxt('archivo.txt', a, delimiter=',')  # Guardar como texto"
   ]
  },
  {
   "cell_type": "code",
   "execution_count": 82,
   "id": "3d5638e5",
   "metadata": {},
   "outputs": [
    {
     "data": {
      "text/plain": [
       "array([1., 2., 3.])"
      ]
     },
     "execution_count": 82,
     "metadata": {},
     "output_type": "execute_result"
    }
   ],
   "source": [
    "np.loadtxt('archivo.txt', delimiter=',')  # Cargar archivo de texto"
   ]
  }
 ],
 "metadata": {
  "kernelspec": {
   "display_name": "base",
   "language": "python",
   "name": "python3"
  },
  "language_info": {
   "codemirror_mode": {
    "name": "ipython",
    "version": 3
   },
   "file_extension": ".py",
   "mimetype": "text/x-python",
   "name": "python",
   "nbconvert_exporter": "python",
   "pygments_lexer": "ipython3",
   "version": "3.12.4"
  }
 },
 "nbformat": 4,
 "nbformat_minor": 5
}
